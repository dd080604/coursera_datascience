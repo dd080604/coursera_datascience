{
 "cells": [
  {
   "cell_type": "markdown",
   "id": "76441c76-7f77-48ef-9df1-ceb58d7177e2",
   "metadata": {},
   "source": [
    "# Data Science Tools and Ecosystem"
   ]
  },
  {
   "cell_type": "markdown",
   "id": "1b582128-26c4-40fe-841c-06a463fb5b0b",
   "metadata": {},
   "source": [
    "In this notebook, Data Science Tools and Ecosystem are summarized."
   ]
  },
  {
   "cell_type": "markdown",
   "id": "f22479d0-b031-493a-b4c3-cabecc0377cb",
   "metadata": {},
   "source": [
    "__Objectives:__\n",
    "- Popular Languages\n",
    "- Popular Libraries\n",
    "- Data science tools\n",
    "- Aritmetic\n",
    "- Minutes to hours"
   ]
  },
  {
   "cell_type": "markdown",
   "id": "1bc48c95-76e4-4b69-8ee7-194dd8369130",
   "metadata": {},
   "source": [
    "Some of the popular languages that Data Scientists use are:\n",
    "1. Python\n",
    "2. R\n",
    "3. SQL"
   ]
  },
  {
   "cell_type": "markdown",
   "id": "85bfe595-06ae-4eb6-8811-e031b8fa8119",
   "metadata": {},
   "source": [
    "Some of the commonly used libraries used by Data Scientists include:\n",
    "1. TensorFlow\n",
    "2. Scikit-learn\n",
    "3. NumPy"
   ]
  },
  {
   "cell_type": "markdown",
   "id": "9fb542de-6892-4ebb-87bd-14076719d1bd",
   "metadata": {},
   "source": [
    "|Data Science Tools|\n",
    "|------|\n",
    "|Jupyter Notebook|\n",
    "|Anaconda|\n",
    "|Visual Studio|"
   ]
  },
  {
   "cell_type": "markdown",
   "id": "32e56d09-198d-4039-86e9-5e6c32ae835c",
   "metadata": {},
   "source": [
    "### Below are a few examples of evaluating arithmetic expressions in Python."
   ]
  },
  {
   "cell_type": "code",
   "execution_count": 3,
   "id": "7b8e3aca-2424-4c4d-8a7d-9533814496ee",
   "metadata": {},
   "outputs": [
    {
     "data": {
      "text/plain": [
       "17"
      ]
     },
     "execution_count": 3,
     "metadata": {},
     "output_type": "execute_result"
    }
   ],
   "source": [
    "# This a simple arithmetic expression to mutiply then add integers.\n",
    "(3*4)+5"
   ]
  },
  {
   "cell_type": "code",
   "execution_count": 4,
   "id": "749abf7d-0fd2-4f04-ae90-4726f7ff5a58",
   "metadata": {},
   "outputs": [
    {
     "data": {
      "text/plain": [
       "3.3333333333333335"
      ]
     },
     "execution_count": 4,
     "metadata": {},
     "output_type": "execute_result"
    }
   ],
   "source": [
    "# This will convert 200 minutes to hours by diving by 60\n",
    "200/60"
   ]
  },
  {
   "cell_type": "markdown",
   "id": "0d60777c-bf1a-46a1-8840-e8c87e569be2",
   "metadata": {},
   "source": [
    "## Author\n",
    "Dylan"
   ]
  },
  {
   "cell_type": "code",
   "execution_count": null,
   "id": "bf1c32e3-a092-4338-a11a-9933cd2790e4",
   "metadata": {},
   "outputs": [],
   "source": []
  }
 ],
 "metadata": {
  "kernelspec": {
   "display_name": "Python 3 (ipykernel)",
   "language": "python",
   "name": "python3"
  },
  "language_info": {
   "codemirror_mode": {
    "name": "ipython",
    "version": 3
   },
   "file_extension": ".py",
   "mimetype": "text/x-python",
   "name": "python",
   "nbconvert_exporter": "python",
   "pygments_lexer": "ipython3",
   "version": "3.11.9"
  }
 },
 "nbformat": 4,
 "nbformat_minor": 5
}
